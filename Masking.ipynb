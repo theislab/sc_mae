{
 "cells": [
  {
   "cell_type": "code",
   "execution_count": null,
   "id": "b8ba29f1-7003-4aec-9229-37380faae5db",
   "metadata": {},
   "outputs": [],
   "source": [
    "%load_ext autoreload"
   ]
  },
  {
   "cell_type": "code",
   "execution_count": null,
   "id": "d70312da-73a5-42b4-af20-da9063214c96",
   "metadata": {},
   "outputs": [],
   "source": [
    "%autoreload 2\n",
    "from train import train"
   ]
  },
  {
   "cell_type": "code",
   "execution_count": null,
   "id": "c2855db6-be81-4081-828d-093f8728fc3b",
   "metadata": {},
   "outputs": [],
   "source": [
    "DATA_PATH = '/lustre/groups/ml01/workspace/till.richter/patient_rep/combat_processed.h5ad'"
   ]
  },
  {
   "cell_type": "code",
   "execution_count": null,
   "id": "c1853945-44e9-4138-af6c-05865cf9f88e",
   "metadata": {},
   "outputs": [],
   "source": [
    "adata = sc.read_h5ad(DATA_PATH)"
   ]
  },
  {
   "cell_type": "code",
   "execution_count": null,
   "id": "455c530e-8337-4f45-adbf-ca969e563fef",
   "metadata": {},
   "outputs": [],
   "source": [
    "train(adata)"
   ]
  }
 ],
 "metadata": {
  "kernelspec": {
   "display_name": "Python [conda env:celldreamer]",
   "language": "python",
   "name": "celldreamer"
  },
  "language_info": {
   "codemirror_mode": {
    "name": "ipython",
    "version": 3
   },
   "file_extension": ".py",
   "mimetype": "text/x-python",
   "name": "python",
   "nbconvert_exporter": "python",
   "pygments_lexer": "ipython3",
   "version": "3.10.12"
  }
 },
 "nbformat": 4,
 "nbformat_minor": 5
}
